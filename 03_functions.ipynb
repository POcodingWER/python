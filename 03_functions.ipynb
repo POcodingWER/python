{
  "cells": [
    {
      "cell_type": "markdown",
      "metadata": {},
      "source": [
        "# 📚 파이썬 기초 3강: 함수\n",
        "\n",
        "코드를 재사용하고 체계적으로 관리하기 위한 함수를 배워보겠습니다.\n",
        "\n",
        "## 🎯 학습 목표\n",
        "- 함수 정의하고 호출하기\n",
        "- 매개변수와 리턴값 사용하기\n",
        "- 람다 함수 이해하기\n"
      ]
    },
    {
      "cell_type": "code",
      "execution_count": null,
      "metadata": {},
      "outputs": [],
      "source": [
        "# 기본 함수 정의\n",
        "def greet():\n",
        "    print(\"안녕하세요!\")\n",
        "    print(\"파이썬 함수를 배워봅시다.\")\n",
        "\n",
        "# 함수 호출\n",
        "greet()\n",
        "\n",
        "# 매개변수가 있는 함수\n",
        "def greet_person(name):\n",
        "    print(f\"안녕하세요, {name}님!\")\n",
        "\n",
        "greet_person(\"김파이썬\")\n",
        "greet_person(\"이코딩\")\n"
      ]
    }
  ],
  "metadata": {
    "language_info": {
      "name": "python"
    }
  },
  "nbformat": 4,
  "nbformat_minor": 2
}
