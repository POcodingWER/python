{
  "cells": [
    {
      "cell_type": "markdown",
      "metadata": {},
      "source": []
    },
    {
      "cell_type": "markdown",
      "metadata": {},
      "source": [
        "# 📚 파이썬 기초 1강: 기본 문법\n",
        "\n",
        "파이썬의 기본적인 문법을 배워보겠습니다.\n",
        "\n",
        "## 🎯 학습 목표\n",
        "- 변수와 데이터 타입 이해하기\n",
        "- 기본 연산자 사용하기\n",
        "- 입출력 함수 사용하기\n"
      ]
    },
    {
      "cell_type": "markdown",
      "metadata": {},
      "source": [
        "## 1. 변수와 데이터 타입\n",
        "\n",
        "파이썬에서는 변수를 선언할 때 타입을 명시하지 않아도 됩니다.\n"
      ]
    },
    {
      "cell_type": "code",
      "execution_count": 11,
      "metadata": {},
      "outputs": [
        {
          "name": "stdout",
          "output_type": "stream",
          "text": [
            "이름: 홍길동\n",
            "나이: 25\n",
            "키: 175.5cm\n",
            "학생 여부: True\n"
          ]
        }
      ],
      "source": [
        "# 변수 선언과 할당\n",
        "name = \"홍길동\"        # 문자열 (string)\n",
        "age = 25              # 정수 (integer)\n",
        "height = 175.5        # 실수 (float)\n",
        "is_student = True     # 불린 (boolean)\n",
        "\n",
        "# 변수 출력\n",
        "print(f\"이름: {name}\")\n",
        "print(f\"나이: {age}\")\n",
        "print(f\"키: {height}cm\")\n",
        "print(f\"학생 여부: {is_student}\")\n"
      ]
    },
    {
      "cell_type": "code",
      "execution_count": 12,
      "metadata": {},
      "outputs": [
        {
          "name": "stdout",
          "output_type": "stream",
          "text": [
            "name의 타입: <class 'str'>\n",
            "age의 타입: <class 'int'>\n",
            "height의 타입: <class 'float'>\n",
            "is_student의 타입: <class 'bool'>\n"
          ]
        }
      ],
      "source": [
        "# 변수의 타입 확인하기\n",
        "print(f\"name의 타입: {type(name)}\")\n",
        "print(f\"age의 타입: {type(age)}\")\n",
        "print(f\"height의 타입: {type(height)}\")\n",
        "print(f\"is_student의 타입: {type(is_student)}\")\n"
      ]
    },
    {
      "cell_type": "markdown",
      "metadata": {},
      "source": [
        "## 2. 기본 연산자\n",
        "\n",
        "파이썬에서 제공하는 다양한 연산자들을 알아보겠습니다.\n"
      ]
    },
    {
      "cell_type": "code",
      "execution_count": 8,
      "metadata": {},
      "outputs": [
        {
          "name": "stdout",
          "output_type": "stream",
          "text": [
            "덧셈: 10 + 3 = 13\n",
            "뺄셈: 10 - 3 = 7\n",
            "곱셈: 10 * 3 = 30\n",
            "나눗셈: 10 / 3 = 3.3333333333333335\n",
            "몫: 10 // 3 = 3\n",
            "나머지: 10 % 3 = 1\n",
            "거듭제곱: 10 ** 3 = 1000\n"
          ]
        }
      ],
      "source": [
        "# 산술 연산자\n",
        "a = 10\n",
        "b = 3\n",
        "\n",
        "print(f\"덧셈: {a} + {b} = {a + b}\")\n",
        "print(f\"뺄셈: {a} - {b} = {a - b}\")\n",
        "print(f\"곱셈: {a} * {b} = {a * b}\")\n",
        "print(f\"나눗셈: {a} / {b} = {a / b}\")\n",
        "print(f\"몫: {a} // {b} = {a // b}\")\n",
        "print(f\"나머지: {a} % {b} = {a % b}\")\n",
        "print(f\"거듭제곱: {a} ** {b} = {a ** b}\")\n"
      ]
    }
  ],
  "metadata": {
    "kernelspec": {
      "display_name": "Python 3",
      "language": "python",
      "name": "python3"
    },
    "language_info": {
      "codemirror_mode": {
        "name": "ipython",
        "version": 3
      },
      "file_extension": ".py",
      "mimetype": "text/x-python",
      "name": "python",
      "nbconvert_exporter": "python",
      "pygments_lexer": "ipython3",
      "version": "3.9.6"
    }
  },
  "nbformat": 4,
  "nbformat_minor": 2
}
