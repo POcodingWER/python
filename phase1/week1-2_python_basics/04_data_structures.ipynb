{
  "cells": [
    {
      "cell_type": "markdown",
      "metadata": {},
      "source": [
        "# 📚 파이썬 기초 4강: 데이터 구조\n",
        "\n",
        "파이썬의 주요 데이터 구조들을 배워보겠습니다.\n",
        "\n",
        "## 🎯 학습 목표\n",
        "- 리스트(List) 다루기\n",
        "- 딕셔너리(Dictionary) 사용하기\n",
        "- 튜플(Tuple)과 집합(Set) 이해하기\n"
      ]
    },
    {
      "cell_type": "code",
      "execution_count": null,
      "metadata": {},
      "outputs": [],
      "source": [
        "# 리스트 생성과 조작\n",
        "fruits = [\"사과\", \"바나나\", \"오렌지\", \"포도\"]\n",
        "\n",
        "print(\"과일 리스트:\", fruits)\n",
        "print(\"첫 번째 과일:\", fruits[0])\n",
        "print(\"마지막 과일:\", fruits[-1])\n",
        "\n",
        "# 리스트에 요소 추가\n",
        "fruits.append(\"딸기\")\n",
        "print(\"딸기 추가 후:\", fruits)\n",
        "\n",
        "# 리스트 길이\n",
        "print(\"과일 개수:\", len(fruits))\n",
        "\n",
        "# 리스트 반복\n",
        "print(\"모든 과일:\")\n",
        "for fruit in fruits:\n",
        "    print(f\"- {fruit}\")\n"
      ]
    }
  ],
  "metadata": {
    "kernelspec": {
      "display_name": "Python 3",
      "language": "python",
      "name": "python3"
    },
    "language_info": {
      "name": "python",
      "version": "3.9.6"
    }
  },
  "nbformat": 4,
  "nbformat_minor": 2
}
