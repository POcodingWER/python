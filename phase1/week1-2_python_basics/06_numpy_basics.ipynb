{
  "cells": [
    {
      "cell_type": "markdown",
      "metadata": {},
      "source": [
        "# 📊 NumPy 기초 - AI를 위한 데이터 처리\n",
        "\n",
        "NumPy는 파이썬에서 수치 연산을 위한 핵심 라이브러리입니다.\n",
        "AI/ML에서 데이터를 다룰 때 필수적으로 사용됩니다.\n",
        "\n",
        "## 🎯 학습 목표\n",
        "- NumPy 배열(ndarray) 이해하기\n",
        "- 배열 생성과 조작 방법\n",
        "- 수학적 연산과 함수들\n",
        "- AI에서 자주 사용되는 패턴들\n"
      ]
    },
    {
      "cell_type": "code",
      "execution_count": 1,
      "metadata": {},
      "outputs": [
        {
          "name": "stdout",
          "output_type": "stream",
          "text": [
            "NumPy 버전: 2.3.3\n"
          ]
        }
      ],
      "source": [
        "import numpy as np\n",
        "print(f\"NumPy 버전: {np.__version__}\")\n"
      ]
    },
    {
      "cell_type": "markdown",
      "metadata": {},
      "source": [
        "## 1. NumPy 배열 생성하기\n"
      ]
    },
    {
      "cell_type": "code",
      "execution_count": 2,
      "metadata": {},
      "outputs": [
        {
          "name": "stdout",
          "output_type": "stream",
          "text": [
            "1차원 배열: [1 2 3 4 5]\n",
            "타입: <class 'numpy.ndarray'>\n",
            "형태: (5,)\n",
            "\n",
            "2차원 배열:\n",
            "[[1 2 3]\n",
            " [4 5 6]]\n",
            "형태: (2, 3)\n"
          ]
        }
      ],
      "source": [
        "# 리스트에서 배열 생성\n",
        "arr1 = np.array([1, 2, 3, 4, 5])\n",
        "print(\"1차원 배열:\", arr1)\n",
        "print(\"타입:\", type(arr1))\n",
        "print(\"형태:\", arr1.shape)\n",
        "\n",
        "# 2차원 배열 (행렬)\n",
        "arr2 = np.array([[1, 2, 3], [4, 5, 6]])\n",
        "print(\"\\n2차원 배열:\")\n",
        "print(arr2)\n",
        "print(\"형태:\", arr2.shape)  # (행, 열)\n"
      ]
    },
    {
      "cell_type": "code",
      "execution_count": 4,
      "metadata": {},
      "outputs": [
        {
          "name": "stdout",
          "output_type": "stream",
          "text": [
            "0 배열:\n",
            " [[0. 0. 0. 0.]\n",
            " [0. 0. 0. 0.]\n",
            " [0. 0. 0. 0.]]\n",
            "\n",
            "1 배열:\n",
            " [[1. 1. 1.]\n",
            " [1. 1. 1.]]\n",
            "\n",
            "랜덤 배열:\n",
            " [[0.62252177 0.56194406 0.26918108]\n",
            " [0.15441716 0.51832046 0.76289958]]\n",
            "\n",
            "범위 배열: [0 2 4 6 8]\n",
            "균등분할: [0.   0.25 0.5  0.75 1.  ]\n"
          ]
        }
      ],
      "source": [
        "# AI에서 자주 사용되는 배열 생성\n",
        "zeros = np.zeros((3, 4))      # 0으로 채운 배열\n",
        "ones = np.ones((2, 3))        # 1로 채운 배열\n",
        "random_arr = np.random.random((2, 3))  # 랜덤 값 (0~1)\n",
        "\n",
        "print(\"0 배열:\\n\", zeros)\n",
        "print(\"\\n1 배열:\\n\", ones)\n",
        "print(\"\\n랜덤 배열:\\n\", random_arr)\n",
        "\n",
        "# 범위 생성 (AI에서 많이 사용)\n",
        "range_arr = np.arange(0, 10, 2)  # 0부터 10까지 2씩 증가\n",
        "linspace_arr = np.linspace(0, 1, 5)  # 0부터 1까지 5개 균등분할\n",
        "print(\"\\n범위 배열:\", range_arr)\n",
        "print(\"균등분할:\", linspace_arr)\n"
      ]
    },
    {
      "cell_type": "markdown",
      "metadata": {},
      "source": [
        "## 2. 핵심 연산들 (AI에서 가장 중요!)\n"
      ]
    },
    {
      "cell_type": "code",
      "execution_count": 5,
      "metadata": {},
      "outputs": [
        {
          "name": "stdout",
          "output_type": "stream",
          "text": [
            "벡터 a: [1 2 3]\n",
            "벡터 b: [4 5 6]\n",
            "덧셈: [5 7 9]\n",
            "내적 (dot product): 32\n",
            "\n",
            "행렬 곱셈 결과:\n",
            "[[0.9 1.9]\n",
            " [2.3 4.1]]\n",
            "\n",
            "데이터: [13 95 33 57 62 12 95 77 42 43]\n",
            "평균: 52.90\n",
            "표준편차: 28.47\n",
            "최댓값: 95, 최솟값: 12\n"
          ]
        }
      ],
      "source": [
        "# 벡터 연산 (AI의 핵심!)\n",
        "a = np.array([1, 2, 3])\n",
        "b = np.array([4, 5, 6])\n",
        "\n",
        "print(\"벡터 a:\", a)\n",
        "print(\"벡터 b:\", b)\n",
        "print(\"덧셈:\", a + b)\n",
        "print(\"내적 (dot product):\", np.dot(a, b))  # AI에서 매우 중요!\n",
        "\n",
        "# 행렬 연산 (딥러닝의 기본!)\n",
        "X = np.array([[1, 2], [3, 4]])  # 입력 데이터\n",
        "W = np.array([[0.5, 0.3], [0.2, 0.8]])  # 가중치\n",
        "\n",
        "result = X @ W  # 행렬 곱셈 (신경망의 기본 연산)\n",
        "print(\"\\n행렬 곱셈 결과:\")\n",
        "print(result)\n",
        "\n",
        "# 통계 함수들 (데이터 분석 필수)\n",
        "data = np.random.randint(1, 100, 10)\n",
        "print(f\"\\n데이터: {data}\")\n",
        "print(f\"평균: {np.mean(data):.2f}\")\n",
        "print(f\"표준편차: {np.std(data):.2f}\")\n",
        "print(f\"최댓값: {np.max(data)}, 최솟값: {np.min(data)}\")\n"
      ]
    }
  ],
  "metadata": {
    "kernelspec": {
      "display_name": "venv",
      "language": "python",
      "name": "python3"
    },
    "language_info": {
      "codemirror_mode": {
        "name": "ipython",
        "version": 3
      },
      "file_extension": ".py",
      "mimetype": "text/x-python",
      "name": "python",
      "nbconvert_exporter": "python",
      "pygments_lexer": "ipython3",
      "version": "3.13.5"
    }
  },
  "nbformat": 4,
  "nbformat_minor": 2
}
