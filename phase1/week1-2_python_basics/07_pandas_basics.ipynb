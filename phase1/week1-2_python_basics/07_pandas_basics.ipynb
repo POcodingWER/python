{
  "cells": [
    {
      "cell_type": "markdown",
      "metadata": {},
      "source": [
        "# 📊 Pandas 기초 - 데이터 분석의 핵심\n",
        "\n",
        "Pandas는 파이썬에서 데이터 분석을 위한 필수 라이브러리입니다.\n",
        "AI/ML에서 데이터 전처리와 분석에 가장 많이 사용됩니다.\n",
        "\n",
        "## 🎯 학습 목표\n",
        "- DataFrame과 Series 이해하기\n",
        "- 데이터 로딩과 저장\n",
        "- 데이터 필터링과 변환\n",
        "- AI를 위한 데이터 전처리 패턴들\n"
      ]
    },
    {
      "cell_type": "code",
      "execution_count": 1,
      "metadata": {},
      "outputs": [
        {
          "ename": "ModuleNotFoundError",
          "evalue": "No module named 'pandas'",
          "output_type": "error",
          "traceback": [
            "\u001b[0;31m---------------------------------------------------------------------------\u001b[0m",
            "\u001b[0;31mModuleNotFoundError\u001b[0m                       Traceback (most recent call last)",
            "Cell \u001b[0;32mIn[1], line 1\u001b[0m\n\u001b[0;32m----> 1\u001b[0m \u001b[38;5;28;01mimport\u001b[39;00m\u001b[38;5;250m \u001b[39m\u001b[38;5;21;01mpandas\u001b[39;00m\u001b[38;5;250m \u001b[39m\u001b[38;5;28;01mas\u001b[39;00m\u001b[38;5;250m \u001b[39m\u001b[38;5;21;01mpd\u001b[39;00m\n\u001b[1;32m      2\u001b[0m \u001b[38;5;28;01mimport\u001b[39;00m\u001b[38;5;250m \u001b[39m\u001b[38;5;21;01mnumpy\u001b[39;00m\u001b[38;5;250m \u001b[39m\u001b[38;5;28;01mas\u001b[39;00m\u001b[38;5;250m \u001b[39m\u001b[38;5;21;01mnp\u001b[39;00m\n\u001b[1;32m      4\u001b[0m \u001b[38;5;28mprint\u001b[39m(\u001b[38;5;124mf\u001b[39m\u001b[38;5;124m\"\u001b[39m\u001b[38;5;124mPandas 버전: \u001b[39m\u001b[38;5;132;01m{\u001b[39;00mpd\u001b[38;5;241m.\u001b[39m__version__\u001b[38;5;132;01m}\u001b[39;00m\u001b[38;5;124m\"\u001b[39m)\n",
            "\u001b[0;31mModuleNotFoundError\u001b[0m: No module named 'pandas'"
          ]
        }
      ],
      "source": [
        "import pandas as pd\n",
        "import numpy as np\n",
        "\n",
        "print(f\"Pandas 버전: {pd.__version__}\")\n",
        "print(f\"NumPy 버전: {np.__version__}\")\n"
      ]
    },
    {
      "cell_type": "markdown",
      "metadata": {},
      "source": [
        "## 1. DataFrame 생성하기 (AI 데이터의 기본 형태)\n"
      ]
    },
    {
      "cell_type": "code",
      "execution_count": null,
      "metadata": {},
      "outputs": [],
      "source": [
        "# 딕셔너리에서 DataFrame 생성 (AI 데이터셋의 일반적 형태)\n",
        "data = {\n",
        "    'name': ['Alice', 'Bob', 'Charlie', 'Diana', 'Eve'],\n",
        "    'age': [25, 30, 35, 28, 32],\n",
        "    'salary': [50000, 60000, 70000, 55000, 65000],\n",
        "    'department': ['IT', 'HR', 'IT', 'Finance', 'IT']\n",
        "}\n",
        "\n",
        "df = pd.DataFrame(data)\n",
        "print(\"DataFrame:\")\n",
        "print(df)\n",
        "print(f\"\\n데이터 타입:\\n{df.dtypes}\")\n",
        "print(f\"\\n기본 정보:\")\n",
        "print(df.info())\n"
      ]
    },
    {
      "cell_type": "markdown",
      "metadata": {},
      "source": [
        "## 2. 데이터 탐색과 필터링 (AI 전처리의 핵심)\n"
      ]
    },
    {
      "cell_type": "code",
      "execution_count": null,
      "metadata": {},
      "outputs": [],
      "source": [
        "# 데이터 탐색\n",
        "print(\"첫 3행:\")\n",
        "print(df.head(3))\n",
        "print(\"\\n통계 요약:\")\n",
        "print(df.describe())\n",
        "\n",
        "# 데이터 필터링 (AI에서 매우 중요!)\n",
        "print(\"\\nIT 부서 직원들:\")\n",
        "it_employees = df[df['department'] == 'IT']\n",
        "print(it_employees)\n",
        "\n",
        "print(\"\\n나이가 30 이상인 사람들:\")\n",
        "older_employees = df[df['age'] >= 30]\n",
        "print(older_employees[['name', 'age']])\n",
        "\n",
        "# 여러 조건 필터링\n",
        "print(\"\\nIT 부서 중 나이 30 이상:\")\n",
        "result = df[(df['department'] == 'IT') & (df['age'] >= 30)]\n",
        "print(result)\n"
      ]
    },
    {
      "cell_type": "markdown",
      "metadata": {},
      "source": [
        "## 3. AI를 위한 핵심 데이터 전처리\n"
      ]
    },
    {
      "cell_type": "code",
      "execution_count": null,
      "metadata": {},
      "outputs": [],
      "source": [
        "# 1. 범주형 데이터를 숫자로 변환 (AI 모델이 이해할 수 있게)\n",
        "df_copy = df.copy()\n",
        "df_copy['department_encoded'] = pd.Categorical(df_copy['department']).codes\n",
        "print(\"부서를 숫자로 변환:\")\n",
        "print(df_copy[['department', 'department_encoded']])\n",
        "\n",
        "# 2. 원핫 인코딩 (AI에서 매우 자주 사용)\n",
        "dept_dummies = pd.get_dummies(df['department'], prefix='dept')\n",
        "print(\"\\n원핫 인코딩:\")\n",
        "print(dept_dummies)\n",
        "\n",
        "# 3. 데이터 정규화 (AI 학습을 위해 필수)\n",
        "from sklearn.preprocessing import StandardScaler\n",
        "df_copy['salary_normalized'] = StandardScaler().fit_transform(df_copy[['salary']])\n",
        "print(\"\\n급여 정규화:\")\n",
        "print(df_copy[['salary', 'salary_normalized']])\n",
        "\n",
        "# 4. 결측값 처리 (실제 데이터에서 흔한 문제)\n",
        "df_with_nan = df.copy()\n",
        "df_with_nan.loc[1, 'salary'] = np.nan  # 임의로 결측값 생성\n",
        "print(f\"\\n결측값 확인: {df_with_nan.isnull().sum()}\")\n",
        "\n",
        "# 결측값 채우기\n",
        "df_filled = df_with_nan.fillna(df_with_nan['salary'].mean())\n",
        "print(\"평균값으로 결측값 채움:\")\n",
        "print(df_filled)\n"
      ]
    }
  ],
  "metadata": {
    "kernelspec": {
      "display_name": "Python 3",
      "language": "python",
      "name": "python3"
    },
    "language_info": {
      "codemirror_mode": {
        "name": "ipython",
        "version": 3
      },
      "file_extension": ".py",
      "mimetype": "text/x-python",
      "name": "python",
      "nbconvert_exporter": "python",
      "pygments_lexer": "ipython3",
      "version": "3.9.6"
    }
  },
  "nbformat": 4,
  "nbformat_minor": 2
}
