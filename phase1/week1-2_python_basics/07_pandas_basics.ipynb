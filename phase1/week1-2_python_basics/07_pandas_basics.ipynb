{
  "cells": [
    {
      "cell_type": "markdown",
      "metadata": {},
      "source": [
        "# 📊 Pandas 기초 - 데이터 분석의 핵심\n",
        "\n",
        "Pandas는 파이썬에서 데이터 분석을 위한 필수 라이브러리입니다.\n",
        "AI/ML에서 데이터 전처리와 분석에 가장 많이 사용됩니다.\n",
        "\n",
        "## 🎯 학습 목표\n",
        "- DataFrame과 Series 이해하기\n",
        "- 데이터 로딩과 저장\n",
        "- 데이터 필터링과 변환\n",
        "- AI를 위한 데이터 전처리 패턴들\n"
      ]
    },
    {
      "cell_type": "code",
      "execution_count": 15,
      "metadata": {},
      "outputs": [
        {
          "name": "stdout",
          "output_type": "stream",
          "text": [
            "Pandas 버전: 2.3.2\n",
            "NumPy 버전: 2.3.3\n"
          ]
        }
      ],
      "source": [
        "import pandas as pd\n",
        "import numpy as np\n",
        "\n",
        "print(f\"Pandas 버전: {pd.__version__}\")\n",
        "print(f\"NumPy 버전: {np.__version__}\")\n"
      ]
    },
    {
      "cell_type": "markdown",
      "metadata": {},
      "source": []
    },
    {
      "cell_type": "markdown",
      "metadata": {},
      "source": [
        "## 1. DataFrame 생성하기 (AI 데이터의 기본 형태)\n"
      ]
    },
    {
      "cell_type": "code",
      "execution_count": 16,
      "metadata": {},
      "outputs": [
        {
          "name": "stdout",
          "output_type": "stream",
          "text": [
            "DataFrame:\n",
            "      name  age  salary department\n",
            "0    Alice   25   50000         IT\n",
            "1      Bob   30   60000         HR\n",
            "2  Charlie   35   70000         IT\n",
            "3    Diana   28   55000    Finance\n",
            "4      Eve   32   65000         IT\n",
            "\n",
            "데이터 타입:\n",
            "name          object\n",
            "age            int64\n",
            "salary         int64\n",
            "department    object\n",
            "dtype: object\n",
            "\n",
            "기본 정보:\n",
            "<class 'pandas.core.frame.DataFrame'>\n",
            "RangeIndex: 5 entries, 0 to 4\n",
            "Data columns (total 4 columns):\n",
            " #   Column      Non-Null Count  Dtype \n",
            "---  ------      --------------  ----- \n",
            " 0   name        5 non-null      object\n",
            " 1   age         5 non-null      int64 \n",
            " 2   salary      5 non-null      int64 \n",
            " 3   department  5 non-null      object\n",
            "dtypes: int64(2), object(2)\n",
            "memory usage: 292.0+ bytes\n",
            "None\n"
          ]
        }
      ],
      "source": [
        "# 딕셔너리에서 DataFrame 생성 (AI 데이터셋의 일반적 형태)\n",
        "data = {\n",
        "    'name': ['Alice', 'Bob', 'Charlie', 'Diana', 'Eve'],\n",
        "    'age': [25, 30, 35, 28, 32],\n",
        "    'salary': [50000, 60000, 70000, 55000, 65000],\n",
        "    'department': ['IT', 'HR', 'IT', 'Finance', 'IT']\n",
        "}\n",
        "\n",
        "df = pd.DataFrame(data)\n",
        "print(\"DataFrame:\")\n",
        "print(df)\n",
        "print(f\"\\n데이터 타입:\\n{df.dtypes}\")\n",
        "print(f\"\\n기본 정보:\")\n",
        "print(df.info())\n"
      ]
    },
    {
      "cell_type": "markdown",
      "metadata": {},
      "source": [
        "## 2. 데이터 탐색과 필터링 (AI 전처리의 핵심)\n"
      ]
    },
    {
      "cell_type": "code",
      "execution_count": 17,
      "metadata": {},
      "outputs": [
        {
          "name": "stdout",
          "output_type": "stream",
          "text": [
            "첫 3행:\n",
            "      name  age  salary department\n",
            "0    Alice   25   50000         IT\n",
            "1      Bob   30   60000         HR\n",
            "2  Charlie   35   70000         IT\n",
            "\n",
            "통계 요약:\n",
            "             age       salary\n",
            "count   5.000000      5.00000\n",
            "mean   30.000000  60000.00000\n",
            "std     3.807887   7905.69415\n",
            "min    25.000000  50000.00000\n",
            "25%    28.000000  55000.00000\n",
            "50%    30.000000  60000.00000\n",
            "75%    32.000000  65000.00000\n",
            "max    35.000000  70000.00000\n",
            "\n",
            "IT 부서 직원들:\n",
            "      name  age  salary department\n",
            "0    Alice   25   50000         IT\n",
            "2  Charlie   35   70000         IT\n",
            "4      Eve   32   65000         IT\n",
            "\n",
            "나이가 30 이상인 사람들:\n",
            "      name  age\n",
            "1      Bob   30\n",
            "2  Charlie   35\n",
            "4      Eve   32\n",
            "\n",
            "IT 부서 중 나이 30 이상:\n",
            "      name  age  salary department\n",
            "2  Charlie   35   70000         IT\n",
            "4      Eve   32   65000         IT\n"
          ]
        }
      ],
      "source": [
        "# 데이터 탐색\n",
        "print(\"첫 3행:\")\n",
        "print(df.head(3))\n",
        "print(\"\\n통계 요약:\")\n",
        "print(df.describe())\n",
        "\n",
        "# 데이터 필터링 (AI에서 매우 중요!)\n",
        "print(\"\\nIT 부서 직원들:\")\n",
        "it_employees = df[df['department'] == 'IT']\n",
        "print(it_employees)\n",
        "\n",
        "print(\"\\n나이가 30 이상인 사람들:\")\n",
        "older_employees = df[df['age'] >= 30]\n",
        "print(older_employees[['name', 'age']])\n",
        "\n",
        "# 여러 조건 필터링\n",
        "print(\"\\nIT 부서 중 나이 30 이상:\")\n",
        "result = df[(df['department'] == 'IT') & (df['age'] >= 30)]\n",
        "print(result)\n"
      ]
    },
    {
      "cell_type": "markdown",
      "metadata": {},
      "source": [
        "## 3. AI를 위한 핵심 데이터 전처리\n"
      ]
    },
    {
      "cell_type": "code",
      "execution_count": 18,
      "metadata": {},
      "outputs": [
        {
          "name": "stdout",
          "output_type": "stream",
          "text": [
            "부서를 숫자로 변환:\n",
            "  department  department_encoded\n",
            "0         IT                   2\n",
            "1         HR                   1\n",
            "2         IT                   2\n",
            "3    Finance                   0\n",
            "4         IT                   2\n",
            "\n",
            "원핫 인코딩:\n",
            "   dept_Finance  dept_HR  dept_IT\n",
            "0         False    False     True\n",
            "1         False     True    False\n",
            "2         False    False     True\n",
            "3          True    False    False\n",
            "4         False    False     True\n",
            "\n",
            "급여 정규화:\n",
            "   salary  salary_normalized\n",
            "0   50000          -1.414214\n",
            "1   60000           0.000000\n",
            "2   70000           1.414214\n",
            "3   55000          -0.707107\n",
            "4   65000           0.707107\n",
            "\n",
            "결측값 확인: name          0\n",
            "age           0\n",
            "salary        1\n",
            "department    0\n",
            "dtype: int64\n",
            "평균값으로 결측값 채움:\n",
            "      name  age   salary department\n",
            "0    Alice   25  50000.0         IT\n",
            "1      Bob   30  60000.0         HR\n",
            "2  Charlie   35  70000.0         IT\n",
            "3    Diana   28  55000.0    Finance\n",
            "4      Eve   32  65000.0         IT\n"
          ]
        }
      ],
      "source": [
        "# 1. 범주형 데이터를 숫자로 변환 (AI 모델이 이해할 수 있게)\n",
        "df_copy = df.copy()\n",
        "df_copy['department_encoded'] = pd.Categorical(df_copy['department']).codes\n",
        "print(\"부서를 숫자로 변환:\")\n",
        "print(df_copy[['department', 'department_encoded']])\n",
        "\n",
        "# 2. 원핫 인코딩 (AI에서 매우 자주 사용)\n",
        "dept_dummies = pd.get_dummies(df['department'], prefix='dept')\n",
        "print(\"\\n원핫 인코딩:\")\n",
        "print(dept_dummies)\n",
        "\n",
        "# 3. 데이터 정규화 (AI 학습을 위해 필수)\n",
        "from sklearn.preprocessing import StandardScaler\n",
        "df_copy['salary_normalized'] = StandardScaler().fit_transform(df_copy[['salary']])\n",
        "print(\"\\n급여 정규화:\")\n",
        "print(df_copy[['salary', 'salary_normalized']])\n",
        "\n",
        "# 4. 결측값 처리 (실제 데이터에서 흔한 문제)\n",
        "df_with_nan = df.copy()\n",
        "df_with_nan.loc[1, 'salary'] = np.nan  # 임의로 결측값 생성\n",
        "print(f\"\\n결측값 확인: {df_with_nan.isnull().sum()}\")\n",
        "\n",
        "# 결측값 채우기\n",
        "df_filled = df_with_nan.fillna(df_with_nan['salary'].mean())\n",
        "print(\"평균값으로 결측값 채움:\")\n",
        "print(df_filled)\n"
      ]
    }
  ],
  "metadata": {
    "kernelspec": {
      "display_name": "Python 3",
      "language": "python",
      "name": "python3"
    },
    "language_info": {
      "codemirror_mode": {
        "name": "ipython",
        "version": 3
      },
      "file_extension": ".py",
      "mimetype": "text/x-python",
      "name": "python",
      "nbconvert_exporter": "python",
      "pygments_lexer": "ipython3",
      "version": "3.9.6"
    }
  },
  "nbformat": 4,
  "nbformat_minor": 2
}
