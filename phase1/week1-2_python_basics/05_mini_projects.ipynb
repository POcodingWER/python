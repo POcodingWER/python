{
  "cells": [
    {
      "cell_type": "markdown",
      "metadata": {},
      "source": [
        "# 📚 파이썬 기초 5강: 미니 프로젝트\n",
        "\n",
        "지금까지 배운 내용을 활용해서 실전 프로젝트를 만들어보겠습니다.\n",
        "\n",
        "## 🎯 학습 목표\n",
        "- 배운 내용을 종합적으로 활용하기\n",
        "- 실제 문제를 파이썬으로 해결하기\n",
        "- 코드 구조화 연습하기\n"
      ]
    },
    {
      "cell_type": "markdown",
      "metadata": {},
      "source": [
        "## 프로젝트 1: 간단한 계산기\n"
      ]
    },
    {
      "cell_type": "code",
      "execution_count": null,
      "metadata": {},
      "outputs": [],
      "source": [
        "def calculator():\n",
        "    \"\"\"간단한 계산기 프로그램\"\"\"\n",
        "    print(\"🔢 간단한 계산기\")\n",
        "    print(\"=\"*30)\n",
        "    \n",
        "    # 숫자 입력받기\n",
        "    try:\n",
        "        num1 = float(input(\"첫 번째 숫자를 입력하세요: \"))\n",
        "        operator = input(\"연산자를 입력하세요 (+, -, *, /): \")\n",
        "        num2 = float(input(\"두 번째 숫자를 입력하세요: \"))\n",
        "        \n",
        "        # 계산 수행\n",
        "        if operator == \"+\":\n",
        "            result = num1 + num2\n",
        "        elif operator == \"-\":\n",
        "            result = num1 - num2\n",
        "        elif operator == \"*\":\n",
        "            result = num1 * num2\n",
        "        elif operator == \"/\":\n",
        "            if num2 != 0:\n",
        "                result = num1 / num2\n",
        "            else:\n",
        "                print(\"❌ 0으로 나눌 수 없습니다!\")\n",
        "                return\n",
        "        else:\n",
        "            print(\"❌ 잘못된 연산자입니다!\")\n",
        "            return\n",
        "        \n",
        "        print(f\"✅ 결과: {num1} {operator} {num2} = {result}\")\n",
        "        \n",
        "    except ValueError:\n",
        "        print(\"❌ 올바른 숫자를 입력해주세요!\")\n",
        "\n",
        "# 예시 실행 (주석 해제해서 테스트)\n",
        "# calculator()\n"
      ]
    }
  ],
  "metadata": {
    "language_info": {
      "name": "python"
    }
  },
  "nbformat": 4,
  "nbformat_minor": 2
}
