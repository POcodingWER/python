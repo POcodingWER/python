{
  "cells": [
    {
      "cell_type": "markdown",
      "metadata": {},
      "source": [
        "# 📚 파이썬 기초 2강: 제어문\n",
        "\n",
        "조건문과 반복문을 사용해서 프로그램의 흐름을 제어해보겠습니다.\n",
        "\n",
        "## 🎯 학습 목표\n",
        "- if문으로 조건에 따른 실행 제어하기\n",
        "- for문과 while문으로 반복 처리하기\n",
        "- break와 continue 사용하기\n"
      ]
    },
    {
      "cell_type": "markdown",
      "metadata": {},
      "source": [
        "## 1. 조건문 (if문)\n",
        "\n",
        "조건에 따라 다른 코드를 실행하고 싶을 때 사용합니다.\n"
      ]
    },
    {
      "cell_type": "code",
      "execution_count": null,
      "metadata": {},
      "outputs": [],
      "source": [
        "# 기본 if문\n",
        "score = 85\n",
        "\n",
        "if score >= 80:\n",
        "    print(\"축하합니다! 합격입니다.\")\n",
        "    print(f\"점수: {score}점\")\n",
        "else:\n",
        "    print(\"아쉽습니다. 불합격입니다.\")\n",
        "    print(f\"점수: {score}점\")\n"
      ]
    }
  ],
  "metadata": {
    "language_info": {
      "name": "python"
    }
  },
  "nbformat": 4,
  "nbformat_minor": 2
}
