{
  "cells": [
    {
      "cell_type": "markdown",
      "metadata": {},
      "source": [
        "# 📈 Week 3-3: 회귀 알고리즘 대결!\n",
        "\n",
        "## 🎯 오늘의 미션\n",
        "**분류에서 회귀로!** 이번엔 **숫자를 예측**해보자!\n",
        "\n",
        "### 🔄 분류 vs 회귀 차이점\n",
        "- **분류**: \"이 꽃은 setosa야!\" (카테고리)\n",
        "- **회귀**: \"이 집값은 50만달러야!\" (연속된 숫자)\n",
        "\n",
        "### 🥊 오늘의 대결 선수들\n",
        "1. **Linear Regression** 🏃‍♂️ (기본형 - 단순하고 빠름)\n",
        "2. **Ridge Regression** 🛡️ (정규화형 - 과적합 방지)\n",
        "3. **Lasso Regression** ✂️ (피처 선택형 - 불필요한 것 제거)\n",
        "\n",
        "---\n"
      ]
    },
    {
      "cell_type": "markdown",
      "metadata": {},
      "source": [
        "## 🏠 문제 정의: 보스턴 집값 예측\n",
        "\n",
        "### 🤔 잠깐! 분류 vs 회귀가 뭐가 다른거야?\n",
        "\n",
        "**02번에서 배운 분류 알고리즘**:\n",
        "- 🌸 \"이 꽃은 setosa야! versicolor야! virginica야!\" \n",
        "- 📋 **정답이 카테고리** (A, B, C 중에 선택)\n",
        "- 🎯 예: 스팸메일 판별 (스팸 or 정상), 동물 분류 (개, 고양이, 새)\n",
        "\n",
        "**03번에서 배울 회귀 알고리즘**:\n",
        "- 💰 \"이 집값은 정확히 45.7만 달러야!\"\n",
        "- 📊 **정답이 연속된 숫자** (무한히 많은 가능성)\n",
        "- 🎯 예: 집값 예측, 주식 가격, 온도 예측\n",
        "\n",
        "### 🏠 오늘의 미션: 집값 예측\n",
        "**상황**: 부동산 중개업자가 되어 집값을 예측해보자!\n",
        "\n",
        "**입력 데이터 (X)**:\n",
        "- 방 개수, 범죄율, 교통 접근성 등 13가지 정보\n",
        "\n",
        "**예측 목표 (y)**:\n",
        "- 집값 (단위: 천 달러) - 23.5만, 31.2만, 45.7만... 등등\n",
        "\n",
        "**왜 회귀인가?**\n",
        "- 집값은 연속된 숫자 (23.5만, 31.2만, 45.7만...)\n",
        "- \"비싸다/싸다\" 같은 카테고리가 아니라 **정확한 숫자**를 맞춰야 함!\n"
      ]
    },
    {
      "cell_type": "code",
      "execution_count": 30,
      "metadata": {},
      "outputs": [
        {
          "name": "stdout",
          "output_type": "stream",
          "text": [
            "🔧 회귀 알고리즘 도구 준비 완료!\n",
            "📊 오늘의 무기들:\n",
            "   🏃‍♂️ LinearRegression - 기본형\n",
            "   🛡️ Ridge - 정규화형\n",
            "   ✂️ Lasso - 피처 선택형\n",
            "   📏 mean_squared_error - 오차 측정\n",
            "   🎯 r2_score - 설명력 측정\n"
          ]
        }
      ],
      "source": [
        "# 🛠️ 도구 준비\n",
        "import numpy as np\n",
        "import pandas as pd\n",
        "import matplotlib.pyplot as plt\n",
        "from sklearn import datasets\n",
        "from sklearn.model_selection import train_test_split\n",
        "from sklearn.linear_model import LinearRegression, Ridge, Lasso\n",
        "from sklearn.metrics import mean_squared_error, r2_score\n",
        "import warnings\n",
        "warnings.filterwarnings('ignore')\n",
        "\n",
        "print(\"🔧 회귀 알고리즘 도구 준비 완료!\")\n",
        "print(\"📊 오늘의 무기들:\")\n",
        "print(\"   🏃‍♂️ LinearRegression - 기본형\")\n",
        "print(\"   🛡️ Ridge - 정규화형\")\n",
        "print(\"   ✂️ Lasso - 피처 선택형\")\n",
        "print(\"   📏 mean_squared_error - 오차 측정\")\n",
        "print(\"   🎯 r2_score - 설명력 측정\")\n"
      ]
    },
    {
      "cell_type": "markdown",
      "metadata": {},
      "source": [
        "## 📊 데이터 탐험: 보스턴 집값 데이터셋\n",
        "\n",
        "**보스턴 집값 데이터**는 회귀 학습의 **아이리스**와 같은 존재!\n",
        "- 506개 집 정보\n",
        "- 13개 특성 (방 개수, 범죄율 등)\n",
        "- 실제 집값 데이터\n"
      ]
    },
    {
      "cell_type": "code",
      "execution_count": 31,
      "metadata": {},
      "outputs": [
        {
          "name": "stdout",
          "output_type": "stream",
          "text": [
            "🌴 캘리포니아 집값 데이터 로드 성공!\n",
            "\n",
            "📋 캘리포니아 집값 데이터 정보:\n",
            "   🏘️ 총 집 개수: 20,640개\n",
            "   📊 특성 개수: 8개\n",
            "   💰 집값 범위: $0.1만 ~ $5.0만\n",
            "   💵 평균 집값: $2.1만\n"
          ]
        }
      ],
      "source": [
        "# 🏠 보스턴 집값 데이터 로드\n",
        "# 주의: sklearn 최신 버전에서는 보스턴 데이터가 제거됨\n",
        "# 대신 캘리포니아 집값 데이터 사용\n",
        "try:\n",
        "    # 보스턴 데이터 시도\n",
        "    from sklearn.datasets import load_boston\n",
        "    boston = load_boston()\n",
        "    X, y = boston.data, boston.target\n",
        "    feature_names = boston.feature_names\n",
        "    dataset_name = \"보스턴\"\n",
        "    print(\"🏠 보스턴 집값 데이터 로드 성공!\")\n",
        "except:\n",
        "    # 캘리포니아 데이터 사용\n",
        "    california = datasets.fetch_california_housing()\n",
        "    X, y = california.data, california.target\n",
        "    feature_names = california.feature_names\n",
        "    dataset_name = \"캘리포니아\"\n",
        "    print(\"🌴 캘리포니아 집값 데이터 로드 성공!\")\n",
        "\n",
        "print(f\"\\n📋 {dataset_name} 집값 데이터 정보:\")\n",
        "print(f\"   🏘️ 총 집 개수: {X.shape[0]:,}개\")\n",
        "print(f\"   📊 특성 개수: {X.shape[1]}개\")\n",
        "print(f\"   💰 집값 범위: ${y.min():.1f}만 ~ ${y.max():.1f}만\")\n",
        "print(f\"   💵 평균 집값: ${y.mean():.1f}만\")\n"
      ]
    },
    {
      "cell_type": "code",
      "execution_count": 32,
      "metadata": {},
      "outputs": [
        {
          "name": "stdout",
          "output_type": "stream",
          "text": [
            "🔍 데이터 미리보기 (처음 5개 집):\n",
            "   MedInc  HouseAge  AveRooms  AveBedrms  Population  AveOccup  Latitude  \\\n",
            "0  8.3252      41.0  6.984127   1.023810       322.0  2.555556     37.88   \n",
            "1  8.3014      21.0  6.238137   0.971880      2401.0  2.109842     37.86   \n",
            "2  7.2574      52.0  8.288136   1.073446       496.0  2.802260     37.85   \n",
            "3  5.6431      52.0  5.817352   1.073059       558.0  2.547945     37.85   \n",
            "4  3.8462      52.0  6.281853   1.081081       565.0  2.181467     37.85   \n",
            "\n",
            "   Longitude     집값  \n",
            "0    -122.23  4.526  \n",
            "1    -122.22  3.585  \n",
            "2    -122.24  3.521  \n",
            "3    -122.25  3.413  \n",
            "4    -122.25  3.422  \n",
            "\n",
            "📈 집값 분포:\n",
            "   최저가: $0.1만\n",
            "   최고가: $5.0만\n",
            "   중간값: $1.8만\n",
            "   평균값: $2.1만\n"
          ]
        }
      ],
      "source": [
        "# 📊 데이터 미리보기\n",
        "df = pd.DataFrame(X, columns=feature_names)\n",
        "df['집값'] = y\n",
        "\n",
        "print(\"🔍 데이터 미리보기 (처음 5개 집):\")\n",
        "print(df.head())\n",
        "\n",
        "print(\"\\n📈 집값 분포:\")\n",
        "print(f\"   최저가: ${y.min():.1f}만\")\n",
        "print(f\"   최고가: ${y.max():.1f}만\")\n",
        "print(f\"   중간값: ${np.median(y):.1f}만\")\n",
        "print(f\"   평균값: ${y.mean():.1f}만\")\n"
      ]
    },
    {
      "cell_type": "markdown",
      "metadata": {},
      "source": [
        "## 🔪 데이터 준비: 훈련용 vs 테스트용\n",
        "\n",
        "**분류와 똑같은 과정!**\n",
        "- X (특성): 방 개수, 범죄율 등\n",
        "- y (목표): 집값\n",
        "- 80% 훈련, 20% 테스트\n"
      ]
    },
    {
      "cell_type": "code",
      "execution_count": 33,
      "metadata": {},
      "outputs": [
        {
          "name": "stdout",
          "output_type": "stream",
          "text": [
            "✂️ 데이터 분할 완료!\n",
            "   📚 훈련용: 16512개 집\n",
            "   🧪 테스트용: 4128개 집\n",
            "   💰 훈련용 평균 집값: $2.1만\n",
            "   💰 테스트용 평균 집값: $2.1만\n",
            "\n",
            "🎯 목표: 테스트용 집들의 가격을 정확히 맞춰보자!\n"
          ]
        }
      ],
      "source": [
        "# ✂️ 데이터 분할\n",
        "X_train, X_test, y_train, y_test = train_test_split(\n",
        "    X, y, \n",
        "    test_size=0.2, \n",
        "    random_state=42\n",
        ")\n",
        "\n",
        "print(\"✂️ 데이터 분할 완료!\")\n",
        "print(f\"   📚 훈련용: {X_train.shape[0]}개 집\")\n",
        "print(f\"   🧪 테스트용: {X_test.shape[0]}개 집\")\n",
        "print(f\"   💰 훈련용 평균 집값: ${y_train.mean():.1f}만\")\n",
        "print(f\"   💰 테스트용 평균 집값: ${y_test.mean():.1f}만\")\n",
        "\n",
        "print(\"\\n🎯 목표: 테스트용 집들의 가격을 정확히 맞춰보자!\")\n"
      ]
    },
    {
      "cell_type": "markdown",
      "metadata": {},
      "source": [
        "## 🥊 회귀 알고리즘 3형제 대결!\n",
        "\n",
        "### 🏃‍♂️ 1라운드: Linear Regression (기본형)\n",
        "\n",
        "**🤔 Linear Regression이 뭐야?**\n",
        "- **Linear** = 직선 (일차함수 y = ax + b 기억나죠?)\n",
        "- 데이터들 사이에 **가장 잘 맞는 직선**을 그어서 예측하는 방법\n",
        "- 예: 방 개수가 많을수록 집값이 비싸다 (직선 관계)\n",
        "\n",
        "**특징**: 가장 단순하고 빠른 회귀 알고리즘\n",
        "**장점**: 해석하기 쉽고 빠름 (수학 공식이 간단)\n",
        "**단점**: 너무 단순해서 복잡한 패턴 못 잡을 수 있음\n"
      ]
    },
    {
      "cell_type": "code",
      "execution_count": 34,
      "metadata": {},
      "outputs": [
        {
          "name": "stdout",
          "output_type": "stream",
          "text": [
            "🏃‍♂️ Linear Regression 결과:\n",
            "   📏 MSE (평균제곱오차): 0.56\n",
            "   🎯 R² Score (설명력): 0.576 (57.6%)\n",
            "   💡 해석: 실제 집값의 57.6%를 설명할 수 있음\n"
          ]
        }
      ],
      "source": [
        "# 🏃‍♂️ Linear Regression 훈련\n",
        "linear_reg = LinearRegression()\n",
        "linear_reg.fit(X_train, y_train)\n",
        "\n",
        "# 예측\n",
        "y_pred_linear = linear_reg.predict(X_test)\n",
        "\n",
        "# 성능 측정\n",
        "mse_linear = mean_squared_error(y_test, y_pred_linear)\n",
        "r2_linear = r2_score(y_test, y_pred_linear)\n",
        "\n",
        "print(\"🏃‍♂️ Linear Regression 결과:\")\n",
        "print(f\"   📏 MSE (평균제곱오차): {mse_linear:.2f}\")\n",
        "print(f\"   🎯 R² Score (설명력): {r2_linear:.3f} ({r2_linear*100:.1f}%)\")\n",
        "print(f\"   💡 해석: 실제 집값의 {r2_linear*100:.1f}%를 설명할 수 있음\")\n"
      ]
    },
    {
      "cell_type": "markdown",
      "metadata": {},
      "source": [
        "### 🛡️ 2라운드: Ridge Regression (정규화형)\n",
        "\n",
        "**🤔 Ridge가 뭐야?**\n",
        "- Linear의 **업그레이드 버전**\n",
        "- **과적합 방지 기능** 추가 (훈련 데이터에만 너무 맞춰지는 것 방지)\n",
        "- 마치 **안전벨트** 같은 역할 - 너무 극단적으로 가지 않게 제어\n",
        "\n",
        "**특징**: 과적합을 방지하는 정규화 기법 사용\n",
        "**장점**: 안정적이고 과적합 방지 (새로운 데이터에도 잘 맞음)\n",
        "**단점**: Linear보다 약간 복잡함\n"
      ]
    },
    {
      "cell_type": "code",
      "execution_count": 35,
      "metadata": {},
      "outputs": [
        {
          "name": "stdout",
          "output_type": "stream",
          "text": [
            "🛡️ Ridge Regression 결과:\n",
            "   📏 MSE (평균제곱오차): 0.56\n",
            "   🎯 R² Score (설명력): 0.576 (57.6%)\n",
            "   💡 해석: 실제 집값의 57.6%를 설명할 수 있음\n"
          ]
        }
      ],
      "source": [
        "# 🛡️ Ridge Regression 훈련\n",
        "ridge_reg = Ridge(alpha=1.0, random_state=42)\n",
        "ridge_reg.fit(X_train, y_train)\n",
        "\n",
        "# 예측\n",
        "y_pred_ridge = ridge_reg.predict(X_test)\n",
        "\n",
        "# 성능 측정\n",
        "mse_ridge = mean_squared_error(y_test, y_pred_ridge)\n",
        "r2_ridge = r2_score(y_test, y_pred_ridge)\n",
        "\n",
        "print(\"🛡️ Ridge Regression 결과:\")\n",
        "print(f\"   📏 MSE (평균제곱오차): {mse_ridge:.2f}\")\n",
        "print(f\"   🎯 R² Score (설명력): {r2_ridge:.3f} ({r2_ridge*100:.1f}%)\")\n",
        "print(f\"   💡 해석: 실제 집값의 {r2_ridge*100:.1f}%를 설명할 수 있음\")\n"
      ]
    },
    {
      "cell_type": "markdown",
      "metadata": {},
      "source": [
        "### ✂️ 3라운드: Lasso Regression (피처 선택형)\n",
        "\n",
        "**🤔 Lasso가 뭐야?**\n",
        "- **자동 정리 기능**이 있는 회귀 알고리즘\n",
        "- 13개 특성 중에서 **진짜 중요한 것만** 골라서 사용\n",
        "- 마치 **정리의 여왕** - 필요없는 건 과감히 버림!\n",
        "- 예: \"범죄율은 중요하지만, 이 특성은 별로 안 중요하네\" → 0으로 만들어버림\n",
        "\n",
        "**특징**: 불필요한 특성을 자동으로 제거\n",
        "**장점**: 중요한 특성만 선택, 해석 용이 (어떤 게 중요한지 알 수 있음)\n",
        "**단점**: 가끔 중요한 특성도 실수로 제거할 수 있음\n"
      ]
    },
    {
      "cell_type": "code",
      "execution_count": 36,
      "metadata": {},
      "outputs": [
        {
          "name": "stdout",
          "output_type": "stream",
          "text": [
            "✂️ Lasso Regression 결과:\n",
            "   📏 MSE (평균제곱오차): 0.61\n",
            "   🎯 R² Score (설명력): 0.532 (53.2%)\n",
            "   💡 해석: 실제 집값의 53.2%를 설명할 수 있음\n",
            "   ✂️ 선택된 특성: 6개 (총 8개 중)\n"
          ]
        }
      ],
      "source": [
        "# ✂️ Lasso Regression 훈련\n",
        "lasso_reg = Lasso(alpha=0.1, random_state=42)\n",
        "lasso_reg.fit(X_train, y_train)\n",
        "\n",
        "# 예측\n",
        "y_pred_lasso = lasso_reg.predict(X_test)\n",
        "\n",
        "# 성능 측정\n",
        "mse_lasso = mean_squared_error(y_test, y_pred_lasso)\n",
        "r2_lasso = r2_score(y_test, y_pred_lasso)\n",
        "\n",
        "print(\"✂️ Lasso Regression 결과:\")\n",
        "print(f\"   📏 MSE (평균제곱오차): {mse_lasso:.2f}\")\n",
        "print(f\"   🎯 R² Score (설명력): {r2_lasso:.3f} ({r2_lasso*100:.1f}%)\")\n",
        "print(f\"   💡 해석: 실제 집값의 {r2_lasso*100:.1f}%를 설명할 수 있음\")\n",
        "\n",
        "# Lasso의 특별 기능: 피처 선택\n",
        "selected_features = np.sum(lasso_reg.coef_ != 0)\n",
        "print(f\"   ✂️ 선택된 특성: {selected_features}개 (총 {X.shape[1]}개 중)\")\n"
      ]
    },
    {
      "cell_type": "markdown",
      "metadata": {},
      "source": [
        "## 🏆 최종 대결 결과 발표!\n",
        "\n",
        "**🤔 성능 지표가 뭐야? (분류와 다름!)**\n",
        "\n",
        "**분류에서는**: 정답률 (100개 중 90개 맞춤 = 90%)\n",
        "\n",
        "**회귀에서는**: \n",
        "- **MSE (평균제곱오차)**: 예측이 얼마나 틀렸는지 (낮을수록 좋음)\n",
        "  - 예: 실제 50만원인데 45만원 예측 → 오차 5만원\n",
        "- **R² Score (결정계수)**: 얼마나 잘 설명하는지 (높을수록 좋음, 최대 1.0)\n",
        "  - 0.8 = 80% 설명력 (꽤 좋음)\n",
        "  - 0.5 = 50% 설명력 (그럭저럭)\n",
        "  - 0.9+ = 90%+ 설명력 (매우 좋음)\n"
      ]
    },
    {
      "cell_type": "code",
      "execution_count": 37,
      "metadata": {},
      "outputs": [
        {
          "name": "stdout",
          "output_type": "stream",
          "text": [
            "🏆 회귀 알고리즘 대결 최종 결과:\n",
            "==================================================\n",
            "       알고리즘      MSE  R² Score 설명력(%)\n",
            "🏃‍♂️ Linear 0.555892  0.575788  57.6%\n",
            "   🛡️ Ridge 0.555803  0.575855  57.6%\n",
            "   ✂️ Lasso 0.613512  0.531817  53.2%\n",
            "\n",
            "🥇 우승자: Ridge 🛡️\n",
            "🎯 최고 성능: 0.576 (57.6% 설명력)\n",
            "\n",
            "📊 성능 분석:\n",
            "   • Linear와 Ridge 성능이 비슷함 → 과적합 위험 낮음\n",
            "   • Lasso 성능 저하 → 중요한 특성을 제거했을 가능성\n"
          ]
        }
      ],
      "source": [
        "# 🏆 최종 결과 비교\n",
        "results = {\n",
        "    '알고리즘': ['🏃‍♂️ Linear', '🛡️ Ridge', '✂️ Lasso'],\n",
        "    'MSE': [mse_linear, mse_ridge, mse_lasso],\n",
        "    'R² Score': [r2_linear, r2_ridge, r2_lasso],\n",
        "    '설명력(%)': [f\"{r2_linear*100:.1f}%\", f\"{r2_ridge*100:.1f}%\", f\"{r2_lasso*100:.1f}%\"]\n",
        "}\n",
        "\n",
        "results_df = pd.DataFrame(results)\n",
        "print(\"🏆 회귀 알고리즘 대결 최종 결과:\")\n",
        "print(\"=\"*50)\n",
        "print(results_df.to_string(index=False))\n",
        "\n",
        "# 우승자 결정 (R² Score 기준)\n",
        "r2_scores = [r2_linear, r2_ridge, r2_lasso]\n",
        "algorithms = ['Linear 🏃‍♂️', 'Ridge 🛡️', 'Lasso ✂️']\n",
        "\n",
        "best_idx = np.argmax(r2_scores)\n",
        "best_algorithm = algorithms[best_idx]\n",
        "best_r2 = r2_scores[best_idx]\n",
        "\n",
        "print(f\"\\n🥇 우승자: {best_algorithm}\")\n",
        "print(f\"🎯 최고 성능: {best_r2:.3f} ({best_r2*100:.1f}% 설명력)\")\n",
        "\n",
        "# 성능 차이 분석\n",
        "print(\"\\n📊 성능 분석:\")\n",
        "if abs(r2_linear - r2_ridge) < 0.01:\n",
        "    print(\"   • Linear와 Ridge 성능이 비슷함 → 과적합 위험 낮음\")\n",
        "if r2_lasso < max(r2_linear, r2_ridge) - 0.02:\n",
        "    print(\"   • Lasso 성능 저하 → 중요한 특성을 제거했을 가능성\")\n",
        "else:\n",
        "    print(\"   • 모든 알고리즘이 비슷한 성능 → 데이터가 잘 정제됨\")\n"
      ]
    },
    {
      "cell_type": "markdown",
      "metadata": {},
      "source": [
        "## 🔍 실제 예측 테스트: 새로운 집 가격 맞춰보기!\n",
        "\n",
        "**실전 테스트**: 우승 알고리즘으로 실제 집 3개의 가격을 예측해보자!\n"
      ]
    },
    {
      "cell_type": "code",
      "execution_count": 38,
      "metadata": {},
      "outputs": [
        {
          "name": "stdout",
          "output_type": "stream",
          "text": [
            "🏠 실제 집 3개 가격 예측 대결!\n",
            "============================================================\n",
            "\n",
            "🏡 집 #1:\n",
            "   💰 실제 가격: $0.5만\n",
            "   🏃‍♂️ Linear 예측: $0.7만 (오차: $0.2만)\n",
            "   🛡️ Ridge 예측: $0.7만 (오차: $0.2만)\n",
            "   ✂️ Lasso 예측: $1.0만 (오차: $0.6만)\n",
            "   🎯 이 집 최고 예측: Linear 🏃‍♂️\n",
            "\n",
            "🏡 집 #2:\n",
            "   💰 실제 가격: $0.5만\n",
            "   🏃‍♂️ Linear 예측: $1.8만 (오차: $1.3만)\n",
            "   🛡️ Ridge 예측: $1.8만 (오차: $1.3만)\n",
            "   ✂️ Lasso 예측: $1.6만 (오차: $1.2만)\n",
            "   🎯 이 집 최고 예측: Lasso ✂️\n",
            "\n",
            "🏡 집 #3:\n",
            "   💰 실제 가격: $5.0만\n",
            "   🏃‍♂️ Linear 예측: $2.7만 (오차: $2.3만)\n",
            "   🛡️ Ridge 예측: $2.7만 (오차: $2.3만)\n",
            "   ✂️ Lasso 예측: $2.3만 (오차: $2.7만)\n",
            "   🎯 이 집 최고 예측: Linear 🏃‍♂️\n"
          ]
        }
      ],
      "source": [
        "# 🏠 실제 예측 테스트\n",
        "# 테스트 데이터에서 3개 집 선택\n",
        "test_indices = [0, 1, 2]\n",
        "sample_houses = X_test[test_indices]\n",
        "actual_prices = y_test[test_indices]\n",
        "\n",
        "print(\"🏠 실제 집 3개 가격 예측 대결!\")\n",
        "print(\"=\"*60)\n",
        "\n",
        "for i, idx in enumerate(test_indices):\n",
        "    house = sample_houses[i:i+1]  # 2D 배열로 만들기\n",
        "    actual = actual_prices[i]\n",
        "    \n",
        "    # 각 알고리즘으로 예측\n",
        "    pred_linear = linear_reg.predict(house)[0]\n",
        "    pred_ridge = ridge_reg.predict(house)[0]\n",
        "    pred_lasso = lasso_reg.predict(house)[0]\n",
        "    \n",
        "    print(f\"\\n🏡 집 #{i+1}:\")\n",
        "    print(f\"   💰 실제 가격: ${actual:.1f}만\")\n",
        "    print(f\"   🏃‍♂️ Linear 예측: ${pred_linear:.1f}만 (오차: ${abs(actual-pred_linear):.1f}만)\")\n",
        "    print(f\"   🛡️ Ridge 예측: ${pred_ridge:.1f}만 (오차: ${abs(actual-pred_ridge):.1f}만)\")\n",
        "    print(f\"   ✂️ Lasso 예측: ${pred_lasso:.1f}만 (오차: ${abs(actual-pred_lasso):.1f}만)\")\n",
        "    \n",
        "    # 가장 정확한 예측 찾기\n",
        "    errors = [abs(actual-pred_linear), abs(actual-pred_ridge), abs(actual-pred_lasso)]\n",
        "    best_pred_idx = np.argmin(errors)\n",
        "    best_pred_name = ['Linear 🏃‍♂️', 'Ridge 🛡️', 'Lasso ✂️'][best_pred_idx]\n",
        "    print(f\"   🎯 이 집 최고 예측: {best_pred_name}\")\n"
      ]
    },
    {
      "cell_type": "markdown",
      "metadata": {},
      "source": [
        "## 🎓 오늘의 핵심 배운 점\n",
        "\n",
        "### 🔄 분류 vs 회귀 차이점\n",
        "- **분류**: 카테고리 예측 (꽃 종류, 스팸 여부)\n",
        "- **회귀**: 연속된 숫자 예측 (집값, 온도, 주가)\n",
        "\n",
        "### 🥊 회귀 알고리즘 특성\n",
        "1. **Linear Regression 🏃‍♂️**\n",
        "   - 장점: 빠르고 해석 쉬움\n",
        "   - 단점: 과적합 위험\n",
        "   - 언제 사용: 단순한 데이터, 빠른 결과 필요시\n",
        "\n",
        "2. **Ridge Regression 🛡️**\n",
        "   - 장점: 과적합 방지, 안정적\n",
        "   - 단점: 약간 복잡\n",
        "   - 언제 사용: 과적합이 걱정될 때\n",
        "\n",
        "3. **Lasso Regression ✂️**\n",
        "   - 장점: 자동 피처 선택, 해석 용이\n",
        "   - 단점: 중요한 특성도 제거 가능\n",
        "   - 언제 사용: 특성이 많고 중요한 것만 골라내고 싶을 때\n",
        "\n",
        "### 📊 성능 지표 이해\n",
        "- **MSE**: 예측 오차 (낮을수록 좋음)\n",
        "- **R² Score**: 설명력 (높을수록 좋음, 최대 1.0)\n",
        "\n",
        "### 🚀 다음 단계\n",
        "- 교차 검증 (Cross Validation)\n",
        "- 혼동행렬과 정밀도/재현율\n",
        "- 첫 ML 프로젝트 (타이타닉!)\n"
      ]
    },
    {
      "cell_type": "markdown",
      "metadata": {},
      "source": [
        "## 🎉 축하합니다!\n",
        "\n",
        "**Week 3 scikit-learn 기초 완전 정복!** 🏆\n",
        "\n",
        "✅ **완료한 것들**:\n",
        "- 분류 알고리즘 (Decision Tree, Random Forest, SVM)\n",
        "- 회귀 알고리즘 (Linear, Ridge, Lasso)\n",
        "- 모델 평가 방법 (train_test_split)\n",
        "- 실전 예측 및 성능 분석\n",
        "\n",
        "**이제 진짜 AI 개발자 입문 완료!** 🎓✨\n"
      ]
    }
  ],
  "metadata": {
    "kernelspec": {
      "display_name": "venv",
      "language": "python",
      "name": "python3"
    },
    "language_info": {
      "codemirror_mode": {
        "name": "ipython",
        "version": 3
      },
      "file_extension": ".py",
      "mimetype": "text/x-python",
      "name": "python",
      "nbconvert_exporter": "python",
      "pygments_lexer": "ipython3",
      "version": "3.13.5"
    }
  },
  "nbformat": 4,
  "nbformat_minor": 2
}
