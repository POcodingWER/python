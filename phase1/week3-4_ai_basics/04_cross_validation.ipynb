{
  "cells": [
    {
      "cell_type": "markdown",
      "metadata": {},
      "source": [
        "# 🔄 Week 3-4: Cross Validation (교차 검증) 마스터!\n",
        "\n",
        "## 🤔 지금까지의 문제점\n",
        "**한 번만 나누기의 한계**:\n",
        "- 지금까지 `train_test_split`으로 **딱 한 번만** 나눴음\n",
        "- 운이 좋으면 → 높은 점수\n",
        "- 운이 나쁘면 → 낮은 점수\n",
        "- **\"진짜 실력\"을 알기 어려움**\n",
        "\n",
        "## 🎯 Cross Validation의 해결책\n",
        "**여러 번 나눠서 평균내기**:\n",
        "- 데이터를 **5번 다르게** 나눠서 테스트\n",
        "- 5번의 점수를 **평균**내서 최종 점수\n",
        "- **더 정확하고 신뢰할 수 있는** 평가!\n",
        "\n",
        "## 📚 오늘 배울 내용\n",
        "1. **Cross Validation 개념** 완전 이해\n",
        "2. **K-Fold Cross Validation** 실습\n",
        "3. **분류와 회귀** 모두 적용해보기\n",
        "4. **진짜 실력** 측정하는 방법\n",
        "\n",
        "---\n"
      ]
    },
    {
      "cell_type": "markdown",
      "metadata": {},
      "source": [
        "## 📖 Cross Validation 개념 완전 이해하기\n",
        "\n",
        "### 🔸 **기존 방식 (train_test_split)**:\n",
        "```\n",
        "전체 데이터 100개\n",
        "├── 훈련용 80개 (학습)\n",
        "└── 테스트용 20개 (평가) → 점수 1개\n",
        "```\n",
        "\n",
        "### 🔄 **Cross Validation 방식 (5-Fold)**:\n",
        "```\n",
        "전체 데이터 100개를 5등분\n",
        "라운드 1: [테스트20] [훈련80개] → 점수1\n",
        "라운드 2: [훈련20] [테스트20] [훈련60개] → 점수2  \n",
        "라운드 3: [훈련40] [테스트20] [훈련40개] → 점수3\n",
        "라운드 4: [훈련60] [테스트20] [훈련20개] → 점수4\n",
        "라운드 5: [훈련80] [테스트20개] → 점수5\n",
        "\n",
        "최종 점수 = (점수1 + 점수2 + 점수3 + 점수4 + 점수5) / 5\n",
        "```\n",
        "\n",
        "### 💡 **왜 더 좋은가?**\n",
        "- **운에 의존하지 않음** (여러 번 테스트)\n",
        "- **모든 데이터가 테스트에 참여** (공정함)\n",
        "- **표준편차까지 알 수 있음** (안정성 측정)\n",
        "\n",
        "### 🎯 **언제 사용할까?**\n",
        "- **모델 선택** (어떤 알고리즘이 최고?)\n",
        "- **하이퍼파라미터 튜닝** (최적 설정 찾기)\n",
        "- **진짜 성능 확인** (과적합 체크)\n"
      ]
    },
    {
      "cell_type": "code",
      "execution_count": 25,
      "metadata": {},
      "outputs": [
        {
          "name": "stdout",
          "output_type": "stream",
          "text": [
            "🔧 Cross Validation 도구 준비 완료!\n",
            "📊 오늘의 무기들:\n",
            "   🔄 cross_val_score - 교차 검증 실행\n",
            "   📁 KFold - 데이터 분할 전략\n",
            "   🌳 분류 알고리즘들 (Decision Tree, Random Forest, SVM)\n",
            "   📈 회귀 알고리즘들 (Linear, Ridge, Lasso)\n",
            "   📏 평가 지표들 (accuracy, MSE, R²)\n",
            "\n",
            "🎯 목표: 진짜 실력을 측정해보자!\n"
          ]
        }
      ],
      "source": [
        "# 🛠️ 도구 준비\n",
        "import numpy as np\n",
        "import pandas as pd\n",
        "from sklearn import datasets\n",
        "from sklearn.model_selection import train_test_split, cross_val_score, KFold\n",
        "from sklearn.tree import DecisionTreeClassifier\n",
        "from sklearn.ensemble import RandomForestClassifier\n",
        "from sklearn.svm import SVC\n",
        "from sklearn.linear_model import LinearRegression, Ridge, Lasso\n",
        "from sklearn.metrics import accuracy_score, mean_squared_error, r2_score\n",
        "import warnings\n",
        "warnings.filterwarnings('ignore')\n",
        "\n",
        "print(\"🔧 Cross Validation 도구 준비 완료!\")\n",
        "print(\"📊 오늘의 무기들:\")\n",
        "print(\"   🔄 cross_val_score - 교차 검증 실행\")\n",
        "print(\"   📁 KFold - 데이터 분할 전략\")\n",
        "print(\"   🌳 분류 알고리즘들 (Decision Tree, Random Forest, SVM)\")\n",
        "print(\"   📈 회귀 알고리즘들 (Linear, Ridge, Lasso)\")\n",
        "print(\"   📏 평가 지표들 (accuracy, MSE, R²)\")\n",
        "\n",
        "print(\"\\n🎯 목표: 진짜 실력을 측정해보자!\")\n"
      ]
    },
    {
      "cell_type": "markdown",
      "metadata": {},
      "source": [
        "## 🌸 실습 1: 분류에서 Cross Validation\n",
        "\n",
        "**분류 예제**: 아이리스 꽃 분류\n",
        "- 기존 방식 vs Cross Validation 비교\n",
        "- 어떤 차이가 있는지 직접 확인!\n"
      ]
    },
    {
      "cell_type": "code",
      "execution_count": 26,
      "metadata": {},
      "outputs": [
        {
          "name": "stdout",
          "output_type": "stream",
          "text": [
            "🌸 아이리스 데이터 정보:\n",
            "   🌺 총 꽃 개수: 150개\n",
            "   📊 특성 개수: 4개\n",
            "   🏷️ 꽃 종류: 3가지\n",
            "   📝 종류명: ['setosa' 'versicolor' 'virginica']\n",
            "\n",
            "🎯 목표: 3개 분류 알고리즘의 진짜 실력 비교!\n"
          ]
        }
      ],
      "source": [
        "# 🌸 아이리스 데이터 준비\n",
        "iris = datasets.load_iris()\n",
        "X_iris, y_iris = iris.data, iris.target\n",
        "\n",
        "print(\"🌸 아이리스 데이터 정보:\")\n",
        "print(f\"   🌺 총 꽃 개수: {X_iris.shape[0]}개\")\n",
        "print(f\"   📊 특성 개수: {X_iris.shape[1]}개\") \n",
        "print(f\"   🏷️ 꽃 종류: {len(np.unique(y_iris))}가지\")\n",
        "print(f\"   📝 종류명: {iris.target_names}\")\n",
        "\n",
        "print(\"\\n🎯 목표: 3개 분류 알고리즘의 진짜 실력 비교!\")\n"
      ]
    },
    {
      "cell_type": "markdown",
      "metadata": {},
      "source": [
        "### 🔸 방법 1: 기존 방식 (한 번만 나누기)\n"
      ]
    },
    {
      "cell_type": "code",
      "execution_count": 27,
      "metadata": {},
      "outputs": [
        {
          "name": "stdout",
          "output_type": "stream",
          "text": [
            "🔸 기존 방식 결과 (한 번만 분할):\n",
            "==================================================\n",
            "Decision Tree 🌳: 1.000 (100.0%)\n",
            "Random Forest 🌲: 1.000 (100.0%)\n",
            "SVM ⚔️: 1.000 (100.0%)\n",
            "\n",
            "📊 기존 방식 - 최고 성능: 1.000\n",
            "⚠️  하지만 이게 진짜 실력일까? 운이 좋았을 수도...\n"
          ]
        }
      ],
      "source": [
        "# 🔸 기존 방식: train_test_split 한 번만\n",
        "X_train, X_test, y_train, y_test = train_test_split(\n",
        "    X_iris, y_iris, test_size=0.3, random_state=42\n",
        ")\n",
        "\n",
        "# 3개 분류 알고리즘 준비\n",
        "algorithms = {\n",
        "    'Decision Tree 🌳': DecisionTreeClassifier(random_state=42),\n",
        "    'Random Forest 🌲': RandomForestClassifier(random_state=42),\n",
        "    'SVM ⚔️': SVC(random_state=42)\n",
        "}\n",
        "\n",
        "print(\"🔸 기존 방식 결과 (한 번만 분할):\")\n",
        "print(\"=\"*50)\n",
        "\n",
        "traditional_scores = {}\n",
        "for name, model in algorithms.items():\n",
        "    # 훈련 및 예측\n",
        "    model.fit(X_train, y_train)\n",
        "    y_pred = model.predict(X_test)\n",
        "    score = accuracy_score(y_test, y_pred)\n",
        "    traditional_scores[name] = score\n",
        "    \n",
        "    print(f\"{name}: {score:.3f} ({score*100:.1f}%)\")\n",
        "\n",
        "print(f\"\\n📊 기존 방식 - 최고 성능: {max(traditional_scores.values()):.3f}\")\n",
        "print(\"⚠️  하지만 이게 진짜 실력일까? 운이 좋았을 수도...\")\n"
      ]
    },
    {
      "cell_type": "markdown",
      "metadata": {},
      "source": [
        "### 🔄 방법 2: Cross Validation (5번 나누기)\n"
      ]
    },
    {
      "cell_type": "code",
      "execution_count": 28,
      "metadata": {},
      "outputs": [
        {
          "name": "stdout",
          "output_type": "stream",
          "text": [
            "🔄 Cross Validation 결과 (5번 분할 후 평균):\n",
            "============================================================\n",
            "\n",
            "Decision Tree 🌳:\n",
            "   📊 5번 점수: ['0.967', '0.967', '0.900', '0.933', '1.000']\n",
            "   📈 평균: 0.953 (95.3%)\n",
            "   📏 표준편차: 0.034 (안정성 지표)\n",
            "   🔄 기존 대비: -0.047 (낮아짐)\n",
            "\n",
            "Random Forest 🌲:\n",
            "   📊 5번 점수: ['0.967', '0.967', '0.933', '0.967', '1.000']\n",
            "   📈 평균: 0.967 (96.7%)\n",
            "   📏 표준편차: 0.021 (안정성 지표)\n",
            "   🔄 기존 대비: -0.033 (낮아짐)\n",
            "\n",
            "SVM ⚔️:\n",
            "   📊 5번 점수: ['0.967', '0.967', '0.967', '0.933', '1.000']\n",
            "   📈 평균: 0.967 (96.7%)\n",
            "   📏 표준편차: 0.021 (안정성 지표)\n",
            "   🔄 기존 대비: -0.033 (낮아짐)\n",
            "\n",
            "🏆 Cross Validation 최고 성능:\n",
            "   🥇 우승자: Random Forest 🌲\n",
            "   📊 성능: 0.967 ± 0.021\n",
            "   💡 해석: 95% 확률로 92.5%~100.9% 사이 성능\n"
          ]
        }
      ],
      "source": [
        "# 🔄 Cross Validation: 5번 나누기\n",
        "print(\"🔄 Cross Validation 결과 (5번 분할 후 평균):\")\n",
        "print(\"=\"*60)\n",
        "\n",
        "cv_results = {}\n",
        "for name, model in algorithms.items():\n",
        "    # 5-Fold Cross Validation\n",
        "    cv_scores = cross_val_score(model, X_iris, y_iris, cv=5, scoring='accuracy')\n",
        "    \n",
        "    cv_mean = cv_scores.mean()\n",
        "    cv_std = cv_scores.std()\n",
        "    cv_results[name] = {'mean': cv_mean, 'std': cv_std, 'scores': cv_scores}\n",
        "    \n",
        "    print(f\"\\n{name}:\")\n",
        "    print(f\"   📊 5번 점수: {[f'{score:.3f}' for score in cv_scores]}\")\n",
        "    print(f\"   📈 평균: {cv_mean:.3f} ({cv_mean*100:.1f}%)\")\n",
        "    print(f\"   📏 표준편차: {cv_std:.3f} (안정성 지표)\")\n",
        "    \n",
        "    # 기존 방식과 비교\n",
        "    traditional = traditional_scores[name]\n",
        "    diff = cv_mean - traditional\n",
        "    if abs(diff) > 0.01:\n",
        "        direction = \"높아짐\" if diff > 0 else \"낮아짐\"\n",
        "        print(f\"   🔄 기존 대비: {diff:+.3f} ({direction})\")\n",
        "    else:\n",
        "        print(f\"   🔄 기존과 비슷: 차이 {diff:+.3f}\")\n",
        "\n",
        "# 최고 성능 알고리즘 찾기\n",
        "best_algorithm = max(cv_results.keys(), key=lambda x: cv_results[x]['mean'])\n",
        "best_score = cv_results[best_algorithm]['mean']\n",
        "best_std = cv_results[best_algorithm]['std']\n",
        "\n",
        "print(f\"\\n🏆 Cross Validation 최고 성능:\")\n",
        "print(f\"   🥇 우승자: {best_algorithm}\")\n",
        "print(f\"   📊 성능: {best_score:.3f} ± {best_std:.3f}\")\n",
        "print(f\"   💡 해석: 95% 확률로 {(best_score-2*best_std)*100:.1f}%~{(best_score+2*best_std)*100:.1f}% 사이 성능\")\n"
      ]
    },
    {
      "cell_type": "markdown",
      "metadata": {},
      "source": [
        "## 🏠 실습 2: 회귀에서 Cross Validation\n",
        "\n",
        "**회귀 예제**: 캘리포니아 집값 예측\n",
        "- 회귀에서는 `R²` 점수로 평가\n",
        "- 분류와 어떤 차이가 있는지 확인!\n"
      ]
    },
    {
      "cell_type": "code",
      "execution_count": 29,
      "metadata": {},
      "outputs": [
        {
          "name": "stdout",
          "output_type": "stream",
          "text": [
            "🏠 캘리포니아 집값 데이터 정보:\n",
            "   🏘️ 총 집 개수: 20,640개\n",
            "   📊 특성 개수: 8개\n",
            "   💰 집값 범위: $0.1만 ~ $5.0만\n",
            "   💵 평균 집값: $2.1만\n",
            "\n",
            "🎯 목표: 3개 회귀 알고리즘의 진짜 실력 비교!\n"
          ]
        }
      ],
      "source": [
        "# 🏠 캘리포니아 집값 데이터 준비\n",
        "california = datasets.fetch_california_housing()\n",
        "X_house, y_house = california.data, california.target\n",
        "\n",
        "print(\"🏠 캘리포니아 집값 데이터 정보:\")\n",
        "print(f\"   🏘️ 총 집 개수: {X_house.shape[0]:,}개\")\n",
        "print(f\"   📊 특성 개수: {X_house.shape[1]}개\")\n",
        "print(f\"   💰 집값 범위: ${y_house.min():.1f}만 ~ ${y_house.max():.1f}만\")\n",
        "print(f\"   💵 평균 집값: ${y_house.mean():.1f}만\")\n",
        "\n",
        "print(\"\\n🎯 목표: 3개 회귀 알고리즘의 진짜 실력 비교!\")\n"
      ]
    },
    {
      "cell_type": "code",
      "execution_count": 30,
      "metadata": {},
      "outputs": [
        {
          "name": "stdout",
          "output_type": "stream",
          "text": [
            "🏠 회귀 Cross Validation 결과 (R² Score 기준):\n",
            "============================================================\n",
            "\n",
            "Linear 🏃‍♂️:\n",
            "   📊 5번 R² 점수: ['0.549', '0.468', '0.551', '0.537', '0.661']\n",
            "   📈 평균 R²: 0.553 (55.3% 설명력)\n",
            "   📏 표준편차: 0.062\n",
            "   🎯 안정성: 불안정 🔴\n",
            "\n",
            "Ridge 🛡️:\n",
            "   📊 5번 R² 점수: ['0.549', '0.468', '0.551', '0.537', '0.661']\n",
            "   📈 평균 R²: 0.553 (55.3% 설명력)\n",
            "   📏 표준편차: 0.062\n",
            "   🎯 안정성: 불안정 🔴\n",
            "\n",
            "Lasso ✂️:\n",
            "   📊 5번 R² 점수: ['0.513', '0.429', '0.511', '0.388', '0.520']\n",
            "   📈 평균 R²: 0.472 (47.2% 설명력)\n",
            "   📏 표준편차: 0.054\n",
            "   🎯 안정성: 불안정 🔴\n",
            "\n",
            "🏆 회귀 Cross Validation 최고 성능:\n",
            "   🥇 우승자: Ridge 🛡️\n",
            "   📊 R² 성능: 0.553 ± 0.062\n",
            "   💡 해석: 55.3% 설명력, 95% 확률로 43.0%~67.6% 사이\n"
          ]
        }
      ],
      "source": [
        "# 🏠 회귀 알고리즘들로 Cross Validation\n",
        "regression_algorithms = {\n",
        "    'Linear 🏃‍♂️': LinearRegression(),\n",
        "    'Ridge 🛡️': Ridge(alpha=1.0, random_state=42),\n",
        "    'Lasso ✂️': Lasso(alpha=0.1, random_state=42)\n",
        "}\n",
        "\n",
        "print(\"🏠 회귀 Cross Validation 결과 (R² Score 기준):\")\n",
        "print(\"=\"*60)\n",
        "\n",
        "regression_cv_results = {}\n",
        "for name, model in regression_algorithms.items():\n",
        "    # 5-Fold Cross Validation (R² Score 사용)\n",
        "    cv_scores = cross_val_score(model, X_house, y_house, cv=5, scoring='r2')\n",
        "    \n",
        "    cv_mean = cv_scores.mean()\n",
        "    cv_std = cv_scores.std()\n",
        "    regression_cv_results[name] = {'mean': cv_mean, 'std': cv_std, 'scores': cv_scores}\n",
        "    \n",
        "    print(f\"\\n{name}:\")\n",
        "    print(f\"   📊 5번 R² 점수: {[f'{score:.3f}' for score in cv_scores]}\")\n",
        "    print(f\"   📈 평균 R²: {cv_mean:.3f} ({cv_mean*100:.1f}% 설명력)\")\n",
        "    print(f\"   📏 표준편차: {cv_std:.3f}\")\n",
        "    \n",
        "    # 안정성 평가\n",
        "    if cv_std < 0.01:\n",
        "        stability = \"매우 안정적 🟢\"\n",
        "    elif cv_std < 0.05:\n",
        "        stability = \"안정적 🟡\"  \n",
        "    else:\n",
        "        stability = \"불안정 🔴\"\n",
        "    print(f\"   🎯 안정성: {stability}\")\n",
        "\n",
        "# 최고 성능 회귀 알고리즘\n",
        "best_regression = max(regression_cv_results.keys(), key=lambda x: regression_cv_results[x]['mean'])\n",
        "best_r2 = regression_cv_results[best_regression]['mean']\n",
        "best_r2_std = regression_cv_results[best_regression]['std']\n",
        "\n",
        "print(f\"\\n🏆 회귀 Cross Validation 최고 성능:\")\n",
        "print(f\"   🥇 우승자: {best_regression}\")\n",
        "print(f\"   📊 R² 성능: {best_r2:.3f} ± {best_r2_std:.3f}\")\n",
        "print(f\"   💡 해석: {best_r2*100:.1f}% 설명력, 95% 확률로 {(best_r2-2*best_r2_std)*100:.1f}%~{(best_r2+2*best_r2_std)*100:.1f}% 사이\")\n"
      ]
    },
    {
      "cell_type": "markdown",
      "metadata": {},
      "source": [
        "## 📊 분류 vs 회귀 Cross Validation 비교\n",
        "\n",
        "**두 가지 방식의 차이점을 정리해보자!**\n"
      ]
    },
    {
      "cell_type": "code",
      "execution_count": 31,
      "metadata": {},
      "outputs": [
        {
          "name": "stdout",
          "output_type": "stream",
          "text": [
            "📊 Cross Validation 최종 정리:\n",
            "======================================================================\n",
            "\n",
            "🌸 분류 (아이리스 꽃):\n",
            "   Decision Tree 🌳: 0.953 ± 0.034 (95.3% 정확도)\n",
            "   Random Forest 🌲: 0.967 ± 0.021 (96.7% 정확도)\n",
            "   SVM ⚔️: 0.967 ± 0.021 (96.7% 정확도)\n",
            "\n",
            "🏆 분류 우승자: Random Forest 🌲 (0.967)\n",
            "\n",
            "🏠 회귀 (캘리포니아 집값):\n",
            "   Linear 🏃‍♂️: 0.553 ± 0.062 (55.3% 설명력)\n",
            "   Ridge 🛡️: 0.553 ± 0.062 (55.3% 설명력)\n",
            "   Lasso ✂️: 0.472 ± 0.054 (47.2% 설명력)\n",
            "\n",
            "🏆 회귀 우승자: Ridge 🛡️ (0.553)\n",
            "\n",
            "💡 Cross Validation의 핵심 가치:\n",
            "   ✅ 운에 의존하지 않는 정확한 성능 측정\n",
            "   ✅ 모든 데이터가 테스트에 참여하는 공정성\n",
            "   ✅ 표준편차로 안정성까지 확인 가능\n",
            "   ✅ 과적합 여부를 더 정확히 판단\n",
            "\n",
            "🎯 언제 사용하면 좋을까?\n",
            "   📈 모델 선택 시 (어떤 알고리즘이 최고인지)\n",
            "   🔧 하이퍼파라미터 튜닝 시\n",
            "   🏆 최종 성능 보고 시\n",
            "   ⚠️  데이터가 적을 때 (더 많은 정보 활용)\n"
          ]
        }
      ],
      "source": [
        "# 📊 최종 비교 및 정리\n",
        "print(\"📊 Cross Validation 최종 정리:\")\n",
        "print(\"=\"*70)\n",
        "\n",
        "print(\"\\n🌸 분류 (아이리스 꽃):\")\n",
        "for name, results in cv_results.items():\n",
        "    mean_score = results['mean']\n",
        "    std_score = results['std']\n",
        "    print(f\"   {name}: {mean_score:.3f} ± {std_score:.3f} ({mean_score*100:.1f}% 정확도)\")\n",
        "\n",
        "print(f\"\\n🏆 분류 우승자: {best_algorithm} ({best_score:.3f})\")\n",
        "\n",
        "print(\"\\n🏠 회귀 (캘리포니아 집값):\")\n",
        "for name, results in regression_cv_results.items():\n",
        "    mean_r2 = results['mean'] \n",
        "    std_r2 = results['std']\n",
        "    print(f\"   {name}: {mean_r2:.3f} ± {std_r2:.3f} ({mean_r2*100:.1f}% 설명력)\")\n",
        "\n",
        "print(f\"\\n🏆 회귀 우승자: {best_regression} ({best_r2:.3f})\")\n",
        "\n",
        "print(\"\\n💡 Cross Validation의 핵심 가치:\")\n",
        "print(\"   ✅ 운에 의존하지 않는 정확한 성능 측정\")\n",
        "print(\"   ✅ 모든 데이터가 테스트에 참여하는 공정성\")\n",
        "print(\"   ✅ 표준편차로 안정성까지 확인 가능\")\n",
        "print(\"   ✅ 과적합 여부를 더 정확히 판단\")\n",
        "\n",
        "print(\"\\n🎯 언제 사용하면 좋을까?\")\n",
        "print(\"   📈 모델 선택 시 (어떤 알고리즘이 최고인지)\")\n",
        "print(\"   🔧 하이퍼파라미터 튜닝 시\")\n",
        "print(\"   🏆 최종 성능 보고 시\")\n",
        "print(\"   ⚠️  데이터가 적을 때 (더 많은 정보 활용)\")\n"
      ]
    },
    {
      "cell_type": "markdown",
      "metadata": {},
      "source": [
        "## 🎓 Cross Validation 마스터 완료!\n",
        "\n",
        "**축하합니다! 이제 진짜 AI 성능 측정 전문가가 되었어요!** 🏆\n",
        "\n",
        "### ✅ **오늘 배운 핵심 내용**:\n",
        "1. **Cross Validation 개념** - 여러 번 나눠서 평균내기\n",
        "2. **K-Fold 방식** - 5번 나누어 더 정확한 평가\n",
        "3. **분류와 회귀 적용** - accuracy vs R² Score\n",
        "4. **안정성 측정** - 표준편차로 일관성 확인\n",
        "5. **실무 활용법** - 언제, 어떻게 사용할지\n",
        "\n",
        "### 🚀 **다음 단계**:\n",
        "- **혼동행렬과 평가지표** (정밀도, 재현율, F1-Score)\n",
        "- **Week 4: 타이타닉 생존 예측** 첫 ML 프로젝트\n",
        "- **하이퍼파라미터 튜닝** (GridSearchCV)\n",
        "\n",
        "**이제 어떤 AI 모델이든 제대로 평가할 수 있어요!** ✨\n"
      ]
    }
  ],
  "metadata": {
    "kernelspec": {
      "display_name": "venv",
      "language": "python",
      "name": "python3"
    },
    "language_info": {
      "codemirror_mode": {
        "name": "ipython",
        "version": 3
      },
      "file_extension": ".py",
      "mimetype": "text/x-python",
      "name": "python",
      "nbconvert_exporter": "python",
      "pygments_lexer": "ipython3",
      "version": "3.13.5"
    }
  },
  "nbformat": 4,
  "nbformat_minor": 2
}
